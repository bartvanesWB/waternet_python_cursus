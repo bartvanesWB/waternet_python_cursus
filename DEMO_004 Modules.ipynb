{
 "cells": [
  {
   "cell_type": "markdown",
   "metadata": {},
   "source": [
    "### Welke modules zijn al geinstalleerd?"
   ]
  },
  {
   "cell_type": "code",
   "execution_count": null,
   "metadata": {},
   "outputs": [],
   "source": [
    "help(\"modules\") "
   ]
  },
  {
   "cell_type": "markdown",
   "metadata": {},
   "source": [
    "### In welke virtuele wereld werk ik vandaag?"
   ]
  },
  {
   "cell_type": "code",
   "execution_count": null,
   "metadata": {},
   "outputs": [],
   "source": [
    "import sys\n",
    "print(sys.executable)"
   ]
  },
  {
   "cell_type": "markdown",
   "metadata": {},
   "source": [
    "#### Of via anaconda"
   ]
  },
  {
   "cell_type": "code",
   "execution_count": null,
   "metadata": {},
   "outputs": [],
   "source": []
  },
  {
   "cell_type": "markdown",
   "metadata": {},
   "source": [
    "### Installeren van een module"
   ]
  },
  {
   "cell_type": "code",
   "execution_count": null,
   "metadata": {},
   "outputs": [],
   "source": [
    "!pip install tqdm"
   ]
  },
  {
   "cell_type": "markdown",
   "metadata": {},
   "source": [
    "#### Of via anaconda"
   ]
  },
  {
   "cell_type": "code",
   "execution_count": null,
   "metadata": {},
   "outputs": [],
   "source": []
  },
  {
   "cell_type": "markdown",
   "metadata": {},
   "source": [
    "### Voorbeeld van het gebruik van een module\n",
    "\n",
    "Onze data, een sondering met de volgende regels:\n",
    "\n",
    "<pre>\n",
    "z;qc;fs\n",
    " -5.0000E-03;2.0000E-02;2.0000E-04\n",
    " -1.0000E-02;2.0000E-02;4.0000E-04\n",
    " -1.5000E-02;2.0000E-02;7.0000E-04\n",
    " -2.0000E-02;2.0000E-02;7.0000E-04\n",
    " -2.5000E-02;2.0000E-02;9.0000E-04\n",
    " ...\n",
    "</pre>\n",
    "\n",
    "Opdracht; we willen de data inlezen en plotten\n",
    "\n",
    "### Stap 1, de data inlezen\n",
    "\n",
    "#### Inlezen zonder modules"
   ]
  },
  {
   "cell_type": "code",
   "execution_count": null,
   "metadata": {},
   "outputs": [],
   "source": [
    "lines = open('data/sample.gef', 'r').readlines()\n",
    "\n",
    "lz, lqc, lfs = [], [], []\n",
    "\n",
    "for line in lines[1:]:\n",
    "    args = line.split(';')\n",
    "    lz.append(float(args[0]))\n",
    "    lqc.append(float(args[1]))\n",
    "    lfs.append(float(args[2].strip()))\n",
    "    \n",
    "        \n",
    "print(lz[:10])"
   ]
  },
  {
   "cell_type": "markdown",
   "metadata": {},
   "source": [
    "#### inlezen met modules\n",
    "\n",
    "https://docs.python.org/3/library/csv.html\n",
    "\n",
    "![title](img/csv.png)"
   ]
  },
  {
   "cell_type": "code",
   "execution_count": null,
   "metadata": {},
   "outputs": [],
   "source": [
    "import csv\n",
    "\n",
    "lz, lqc, lfs = [], [], []\n",
    "\n",
    "with open(\"data/sample.gef\") as csvfile:\n",
    "    gefreader = csv.reader(csvfile, delimiter=';')        \n",
    "    for row in gefreader:\n",
    "        lz.append(float(row[0]))\n",
    "        lqc.append(float(row[1]))\n",
    "        lfs.append(float(row[2]))\n",
    "        \n",
    "        \n",
    "print(lz[:10])"
   ]
  },
  {
   "cell_type": "markdown",
   "metadata": {},
   "source": [
    "De standaard code werkt dus niet.. de eerste regel is een header en daar kun je geen getallen van maken. Er is ook geen optie om die header over te slaan.. help!\n",
    "\n",
    "Denk erom, google / stackoverflow.. altijd behulpzaam...\n",
    "\n",
    "https://stackoverflow.com/questions/14674275/skip-first-linefield-in-loop-using-csv-file"
   ]
  },
  {
   "cell_type": "code",
   "execution_count": null,
   "metadata": {},
   "outputs": [],
   "source": [
    "import csv\n",
    "\n",
    "lz, lqc, lfs = [], [], []\n",
    "\n",
    "with open(\"data/sample.gef\") as csvfile:\n",
    "    # volgens stackoverflow moet de volgende regel helpen\n",
    "    next(csvfile)\n",
    "    \n",
    "    # en dan weer dezelfde code\n",
    "    gefreader = csv.reader(csvfile, delimiter=';')    \n",
    "    for row in gefreader:\n",
    "        lz.append(float(row[0]))\n",
    "        lqc.append(float(row[1]))\n",
    "        lfs.append(float(row[2]))\n",
    "        \n",
    "print(lz[:10])"
   ]
  },
  {
   "cell_type": "markdown",
   "metadata": {},
   "source": [
    "#### misschien een andere module dan?\n",
    "\n",
    "https://docs.scipy.org/doc/numpy/reference/generated/numpy.loadtxt.html\n",
    "\n",
    "of\n",
    "\n",
    "https://stackoverflow.com/questions/3518778/how-do-i-read-csv-data-into-a-record-array-in-numpy"
   ]
  },
  {
   "cell_type": "code",
   "execution_count": null,
   "metadata": {},
   "outputs": [],
   "source": [
    "import numpy as np # krijg een een foutmelding doe dan eerst !pip install numpy\n",
    "\n",
    "my_data = np.genfromtxt('data/sample.gef', delimiter=';')\n",
    "\n",
    "my_data"
   ]
  },
  {
   "cell_type": "code",
   "execution_count": null,
   "metadata": {},
   "outputs": [],
   "source": [
    "type(my_data)"
   ]
  },
  {
   "cell_type": "markdown",
   "metadata": {},
   "source": [
    "#### en nog een andere optie?\n",
    "\n",
    "https://stackoverflow.com/questions/3518778/how-do-i-read-csv-data-into-a-record-array-in-numpy"
   ]
  },
  {
   "cell_type": "code",
   "execution_count": null,
   "metadata": {},
   "outputs": [],
   "source": [
    "import pandas as pd # krijg een een foutmelding doe dan eerst !pip install pandas\n",
    "\n",
    "data = pd.read_csv('data/sample.gef', sep=';')"
   ]
  },
  {
   "cell_type": "code",
   "execution_count": null,
   "metadata": {},
   "outputs": [],
   "source": [
    "data"
   ]
  },
  {
   "cell_type": "markdown",
   "metadata": {},
   "source": [
    "### Stap 2, plotten\n",
    "\n",
    "We gaan matplotlib gebruiken\n",
    "\n",
    "#### met de zelf ingelezen data:"
   ]
  },
  {
   "cell_type": "code",
   "execution_count": null,
   "metadata": {},
   "outputs": [],
   "source": [
    "import matplotlib.pyplot as plt\n",
    "\n",
    "lines = open('data/sample.gef', 'r').readlines()\n",
    "\n",
    "lz, lqc, lfs = [], [], []\n",
    "\n",
    "for line in lines[1:]:\n",
    "    args = line.split(';')\n",
    "    lz.append(float(args[0]))\n",
    "    lqc.append(float(args[1]))\n",
    "    lfs.append(float(args[2].strip()))\n",
    "    \n",
    "_ = plt.plot(lqc, lz)"
   ]
  },
  {
   "cell_type": "markdown",
   "metadata": {},
   "source": [
    "#### met de csv module"
   ]
  },
  {
   "cell_type": "code",
   "execution_count": null,
   "metadata": {},
   "outputs": [],
   "source": [
    "import csv\n",
    "\n",
    "lz, lqc, lfs = [], [], []\n",
    "\n",
    "with open(\"data/sample.gef\") as csvfile:\n",
    "    # volgens stackoverflow moet de volgende regel helpen\n",
    "    next(csvfile)\n",
    "    \n",
    "    # en dan weer dezelfde code\n",
    "    gefreader = csv.reader(csvfile, delimiter=';')    \n",
    "    for row in gefreader:\n",
    "        lz.append(float(row[0]))\n",
    "        lqc.append(float(row[1]))\n",
    "        lfs.append(float(row[2]))\n",
    "        \n",
    "_ = plt.plot(lqc, lz)"
   ]
  },
  {
   "cell_type": "markdown",
   "metadata": {},
   "source": [
    "#### met de numpy module"
   ]
  },
  {
   "cell_type": "code",
   "execution_count": null,
   "metadata": {},
   "outputs": [],
   "source": [
    "import numpy as np\n",
    "\n",
    "my_data = np.genfromtxt('data/sample.gef', delimiter=';')\n",
    "_ = plt.plot(my_data[:,1], my_data[:,0])"
   ]
  },
  {
   "cell_type": "markdown",
   "metadata": {},
   "source": [
    "#### met de pandas module"
   ]
  },
  {
   "cell_type": "code",
   "execution_count": null,
   "metadata": {},
   "outputs": [],
   "source": [
    "import pandas as pd\n",
    "\n",
    "data = pd.read_csv('data/sample.gef', sep=';')\n",
    "data.plot(x='qc',y='z')"
   ]
  },
  {
   "cell_type": "markdown",
   "metadata": {},
   "source": [
    "#### maar moet je kijken wat pandas nog meer met je data doet!"
   ]
  },
  {
   "cell_type": "code",
   "execution_count": null,
   "metadata": {},
   "outputs": [],
   "source": [
    "data.head()"
   ]
  },
  {
   "cell_type": "code",
   "execution_count": null,
   "metadata": {},
   "outputs": [],
   "source": [
    "data.describe()"
   ]
  },
  {
   "cell_type": "code",
   "execution_count": null,
   "metadata": {},
   "outputs": [],
   "source": [
    "_ = data.hist('qc')"
   ]
  },
  {
   "cell_type": "code",
   "execution_count": null,
   "metadata": {},
   "outputs": [],
   "source": [
    "_ = data.plot.scatter(x='qc',y='z')"
   ]
  },
  {
   "cell_type": "markdown",
   "metadata": {},
   "source": [
    "#### en kijk wat je kunt doen door twee bibliotheken te combineren! (gevorderden)"
   ]
  },
  {
   "cell_type": "code",
   "execution_count": null,
   "metadata": {},
   "outputs": [],
   "source": [
    "# maak via matplotlib ruimte voor een figuur van 10x15 inches\n",
    "f, ax = plt.subplots(1, 1, figsize = (10, 15))\n",
    "\n",
    "# plot op de verkregen figuur de qc tegen de diepte (gebruik de as uit de vorige regel)\n",
    "data.plot(x='qc', y='z', label='qc', ax=ax) \n",
    "\n",
    "# bereken het wrijvingsgetal (pas op dat je eigenlijk eerst een check op qc > 0 moet doen!)\n",
    "data['rf'] = data['fs'] / data['qc'] * 100.\n",
    "\n",
    "# plot het wrijvingsgetal in dezelfde grafiek\n",
    "data.plot(x='rf', y='z', label='Rf', ax=ax)\n",
    "\n",
    "# toon het grid\n",
    "ax.grid()"
   ]
  },
  {
   "cell_type": "code",
   "execution_count": null,
   "metadata": {},
   "outputs": [],
   "source": []
  }
 ],
 "metadata": {
  "kernelspec": {
   "display_name": "Python 3",
   "language": "python",
   "name": "python3"
  },
  "language_info": {
   "codemirror_mode": {
    "name": "ipython",
    "version": 3
   },
   "file_extension": ".py",
   "mimetype": "text/x-python",
   "name": "python",
   "nbconvert_exporter": "python",
   "pygments_lexer": "ipython3",
   "version": "3.7.5"
  }
 },
 "nbformat": 4,
 "nbformat_minor": 4
}
