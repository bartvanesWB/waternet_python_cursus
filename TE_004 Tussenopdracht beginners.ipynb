{
 "cells": [
  {
   "cell_type": "markdown",
   "metadata": {},
   "source": [
    "breinbaas | revisie 2 | 30-03-2020 \n",
    "\n",
    "# Tussenopdracht\n",
    "\n",
    "In deze opdracht komt alles samen. Je kunt dit als leidraad gebruiken om je eigen code te schrijven. Vergeet niet dat je op meerdere manieren tot dezelfde oplossing kunt komen. Samenwerken is prima, internet werkt prima zolang je maar probeert om de opdracht op te lossen. Voel je niet slecht als het niet in de beschikbare tijd lukt!\n",
    "\n",
    "### Beschrijving\n",
    "\n",
    "We gaan een bestandstype van rekenprogrammatuur bewerken. Hiertoe lezen we een bestand in, zoeken we naar een bepaalde regel, vervangen we een waarde en slaan het bestand weer op. Code die je nog niet kent wordt in dit notebook gegeven evenals links naar meer informatie.\n",
    "\n",
    "Het bestand dat we gaan lezen is te vinden onder de data folder en heet test.sti. Hier vind je een stukje invoer van dit bestand;\n",
    "\n",
    "<pre>\n",
    "[VERSION]\n",
    "Soil=1000\n",
    "Geometry=1000\n",
    "StressCurve=1000\n",
    "BondStressDiagram=1000\n",
    "MStab=1002\n",
    "[END OF VERSION]\n",
    "[SOIL COLLECTION]\n",
    "   41 = number of items\n",
    "[SOIL]\n",
    "Undetermined\n",
    "SoilColor=9764853\n",
    "SoilSoilType=2\n",
    "SoilUseSoilType=0\n",
    "SoilExcessPorePressure=0.00\n",
    "SoilPorePressureFactor=1.00\n",
    "SoilGamDry=0.01\n",
    "SoilGamWet=0.01\n",
    "SoilRestSlope=0\n",
    "</pre>\n",
    "\n",
    "Je ziet hier dat de makers gekozen hebben voor een logica waarbij de parameternaam gevolgd wordt door een = teken en daarachter de waarde van de parameter staat.\n",
    "\n",
    "Dit is een bestand dat onder geotechnici bekend is en de invoer voor een stabiliteitsberekening voorstelt. In die rekeninvoer worden parameters voor de grondsoorten gedefinieerd. Wij gaan een functie schrijven die droge volumieke massa's (gewicht van de grond) op 17 kN/m3 zet. Hiertoe moeten we de volgende stappen ondernemen;\n",
    "\n",
    "* bestand lezen\n",
    "* regel voor regel het bestand doorlopen\n",
    "* zoeken naar het keyword SoilGamDry\n",
    "* de waarde achter het = teken op 17.00 zetten\n",
    "* het bestand opslaan\n",
    "\n",
    "Als je moeite met een actie hebt kijk dan onderaan dit notebook voor tips en trucs!\n",
    "\n",
    "Voor je begint is er een hele belangrijke tip.. als Python regels leest of schrijft dan is het teken \\n een regeleinde. De regel \n",
    "\n",
    "<pre>SoilExcessPorePressure=0.00</pre>\n",
    "\n",
    "leest Python dan als\n",
    "\n",
    "<pre>SoilExcessPorePressure=0.00\\n</pre>\n",
    "\n",
    "om deze \\n uit je ingelezen string te halen heb je de functie strip nodig. Kijk naar de volgende code;"
   ]
  },
  {
   "cell_type": "code",
   "execution_count": null,
   "metadata": {},
   "outputs": [],
   "source": [
    "\"SoilExcessPorePressure=0.00\\n\""
   ]
  },
  {
   "cell_type": "code",
   "execution_count": null,
   "metadata": {},
   "outputs": [],
   "source": [
    "\"SoilExcessPorePressure=0.00\\n\".strip()"
   ]
  },
  {
   "cell_type": "code",
   "execution_count": null,
   "metadata": {},
   "outputs": [],
   "source": []
  },
  {
   "cell_type": "markdown",
   "metadata": {},
   "source": [
    "### Meer? \n",
    "\n",
    "Ben je al klaar? Dan kun je de volgende opdrachten proberen;\n",
    "\n",
    "* A) Verander de waarde van parameters SoilGamDry en SoilGamWet enkel indien de de huidige waarde kleiner is dan 12.0\n",
    "* B) Lees het bestand in en sla alle gevonden grondsoorten op in een lijst en print deze\n",
    "* C) **Moeilijk!** Lees het bestand in en sla de x (2de kolom) en z (3de kolom) waarden van alle punten onder [POINTS] op in een lijst en print deze\n",
    "\n",
    "#### A"
   ]
  },
  {
   "cell_type": "code",
   "execution_count": null,
   "metadata": {},
   "outputs": [],
   "source": []
  },
  {
   "cell_type": "markdown",
   "metadata": {},
   "source": [
    "#### B"
   ]
  },
  {
   "cell_type": "code",
   "execution_count": null,
   "metadata": {},
   "outputs": [],
   "source": []
  },
  {
   "cell_type": "markdown",
   "metadata": {},
   "source": [
    "#### C"
   ]
  },
  {
   "cell_type": "code",
   "execution_count": null,
   "metadata": {},
   "outputs": [],
   "source": []
  },
  {
   "cell_type": "markdown",
   "metadata": {},
   "source": [
    "### Tips en trucs\n",
    "\n",
    "#### Bestanden lezen\n",
    "\n",
    "<pre>f = open(\"bestandsnaam.sti\", 'r')\n",
    "f.readline()\n",
    "f.close()</pre>\n",
    "\n",
    "* https://www.pythonforbeginners.com/files/reading-and-writing-files-in-python\n",
    "\n",
    "#### Regel voor regel een bestand lezen\n",
    "\n",
    "<pre>f.readline() of f.readlines()</pre>\n",
    "\n",
    "* https://cmdlinetips.com/2011/08/three-ways-to-read-a-text-file-line-by-line-in-python/\n",
    "* https://stackoverflow.com/questions/3277503/how-to-read-a-file-line-by-line-into-a-list\n",
    "\n",
    "####  Zoeken binnen regels\n",
    "\n",
    "<pre>s.find(\"iets\")</pre>\n",
    "\n",
    "* https://www.tutorialspoint.com/python/string_find.htm\n",
    "* https://stackoverflow.com/questions/2294493/how-to-get-the-position-of-a-character-in-python\n",
    "* https://docs.python.org/2/library/string.html\n",
    "\n",
    "#### Regels in stukjes breken o.b.v. van een karakter\n",
    "\n",
    "<pre>s.split(\";\")</pre>\n",
    "\n",
    "* https://www.pythonforbeginners.com/dictionary/python-split\n",
    "* https://docs.python.org/2/library/string.html\n",
    "\n",
    "#### Bestanden schrijven en opslaan\n",
    "\n",
    "<pre>f = open(\"bestandsnaam.sti\", 'w')\n",
    "f.write(\"Mijn Regel\\n\") #let op dat \\n een nieuw regeleinde betekent\n",
    "f.close()\n",
    "</pre>\n",
    "\n",
    "* https://pythonspot.com/write-file/\n",
    "* https://www.w3schools.com/python/python_file_write.asp\n"
   ]
  }
 ],
 "metadata": {
  "kernelspec": {
   "display_name": "Python 3",
   "language": "python",
   "name": "python3"
  },
  "language_info": {
   "codemirror_mode": {
    "name": "ipython",
    "version": 3
   },
   "file_extension": ".py",
   "mimetype": "text/x-python",
   "name": "python",
   "nbconvert_exporter": "python",
   "pygments_lexer": "ipython3",
   "version": "3.7.5"
  }
 },
 "nbformat": 4,
 "nbformat_minor": 2
}
