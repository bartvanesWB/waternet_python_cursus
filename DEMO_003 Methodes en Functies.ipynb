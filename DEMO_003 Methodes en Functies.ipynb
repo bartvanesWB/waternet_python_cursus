{
 "cells": [
  {
   "cell_type": "markdown",
   "metadata": {},
   "source": [
    "### Waarom functies en methodes?"
   ]
  },
  {
   "cell_type": "code",
   "execution_count": null,
   "metadata": {},
   "outputs": [],
   "source": [
    "b, h = 5, 10\n",
    "a = b*h\n",
    "print(\"De oppervlakte van een rechthoek met breedte %d cm en hoogte %d cm bedraagt %d cm2\" % (b,h,a))\n",
    "\n",
    "b, h = 4, 8\n",
    "a = b*h\n",
    "print(\"De oppervlakte van een rechthoek met breedte %d cm en hoogte %d cm bedraagt %d cm2\" % (b,h,a))    "
   ]
  },
  {
   "cell_type": "code",
   "execution_count": null,
   "metadata": {},
   "outputs": [],
   "source": [
    "def oppervlakte(b, h):\n",
    "    print(\"De oppervlakte van een rechthoek met breedte %d cm en hoogte %d cm bedraagt %d cm2\" % (b,h,b*h))"
   ]
  },
  {
   "cell_type": "code",
   "execution_count": null,
   "metadata": {},
   "outputs": [],
   "source": [
    "oppervlakte(5,10)\n",
    "oppervlakte(4,8)"
   ]
  },
  {
   "cell_type": "markdown",
   "metadata": {},
   "source": [
    "### Functies zijn overal!"
   ]
  },
  {
   "cell_type": "code",
   "execution_count": null,
   "metadata": {},
   "outputs": [],
   "source": [
    "s = \"Rob\"\n",
    "help(str)"
   ]
  },
  {
   "cell_type": "code",
   "execution_count": null,
   "metadata": {},
   "outputs": [],
   "source": [
    "print(s.upper())\n",
    "print(s.lower())\n",
    "print(s.replace('b', 'bert'))"
   ]
  },
  {
   "cell_type": "markdown",
   "metadata": {},
   "source": [
    "### Functie of methode?"
   ]
  },
  {
   "cell_type": "code",
   "execution_count": null,
   "metadata": {},
   "outputs": [],
   "source": [
    "def m(i):\n",
    "    print(\"i heeft waarde %d\" % i)\n",
    "    \n",
    "def f(i):\n",
    "    return i**2\n",
    "\n",
    "print(m(1))\n",
    "print(f(2))"
   ]
  },
  {
   "cell_type": "markdown",
   "metadata": {},
   "source": [
    "### Voorbeelden van het gebruik van functies of methodes"
   ]
  },
  {
   "cell_type": "code",
   "execution_count": null,
   "metadata": {},
   "outputs": [],
   "source": [
    "def rapporteer(leeftijd):\n",
    "    print(\"-\"*80)\n",
    "    print(\"welkom bij deze service!\")\n",
    "    print(\"uw leeftijd is: %d\" % leeftijd)\n",
    "    if leeftijd < 18:\n",
    "        print(\"u bent minderjarig\")\n",
    "        print(\"dat betekent o.a. dat u nog geen alcohol mag drinken!\")\n",
    "        print(\"bedankt voor het raadplegen van deze service!\")\n",
    "        print(\"-\"*80)\n",
    "    else:\n",
    "        print(\"u bent volwassen (in de naam van de wet dan..)\")\n",
    "        print(\"dat betekent o.a. dat u alcohol mag drinken!\")\n",
    "        print(\"maar drink niet teveel aub...\")\n",
    "        print(\"bedankt voor het raadplegen van deze service!\")\n",
    "        print(\"-\"*80)"
   ]
  },
  {
   "cell_type": "markdown",
   "metadata": {},
   "source": [
    "### Live coding van een functie\n",
    "\n",
    "![title](img/wrijvingsgetal.png)"
   ]
  },
  {
   "cell_type": "code",
   "execution_count": null,
   "metadata": {},
   "outputs": [],
   "source": []
  },
  {
   "cell_type": "markdown",
   "metadata": {},
   "source": [
    "### Default waarden meegeven"
   ]
  },
  {
   "cell_type": "code",
   "execution_count": null,
   "metadata": {},
   "outputs": [],
   "source": [
    "def m(i, j=2):\n",
    "    return i**j\n",
    "    \n",
    "print(m(2))\n",
    "print(m(2,3))   "
   ]
  },
  {
   "cell_type": "markdown",
   "metadata": {},
   "source": [
    "maar let op de volgorde!"
   ]
  },
  {
   "cell_type": "code",
   "execution_count": null,
   "metadata": {
    "scrolled": true
   },
   "outputs": [],
   "source": [
    "def m(j=2, i):\n",
    "    return i**j\n",
    "\n",
    "print(m(2))"
   ]
  },
  {
   "cell_type": "markdown",
   "metadata": {},
   "source": [
    "### Voorbeeld van default waarden in de praktijk"
   ]
  },
  {
   "cell_type": "code",
   "execution_count": null,
   "metadata": {},
   "outputs": [],
   "source": [
    "def methode_robertson(qc):\n",
    "    return \"grondsoort volgens robertson\"\n",
    "\n",
    "def methode_nen5104(qc):\n",
    "    return \"grondsoort volgens nen5104\"\n",
    "\n",
    "def methode_whatever(qc):\n",
    "    return \"grondsoort volgens whatever\"\n",
    "\n",
    "def grondsoort(qc, methode='robertson'):\n",
    "    if methode == 'robertson':\n",
    "        return methode_robertson(qc)\n",
    "    elif methode == 'nen5104':\n",
    "        return methode_nen5104(qc)\n",
    "    elif methode == 'whatever':\n",
    "        return methode_whatever(qc)\n",
    "    return \"onbekende methode, gebruik robertson, nen5104 of whatever\""
   ]
  },
  {
   "cell_type": "markdown",
   "metadata": {},
   "source": [
    "### Functies duidelijk presenteren"
   ]
  },
  {
   "cell_type": "code",
   "execution_count": null,
   "metadata": {},
   "outputs": [],
   "source": [
    "def my_power_func(i, j=2):\n",
    "    \"\"\"Deze functie geeft i^j terug.\n",
    "    \n",
    "    Input:\n",
    "    i = getal\n",
    "    j = macht (default = 2)\n",
    "    \n",
    "    Output:\n",
    "    i tot de macht j\n",
    "    \"\"\"\n",
    "    return i**j"
   ]
  },
  {
   "cell_type": "code",
   "execution_count": null,
   "metadata": {},
   "outputs": [],
   "source": [
    "help(my_power_func)"
   ]
  },
  {
   "cell_type": "markdown",
   "metadata": {},
   "source": [
    "### Weet je zeker dat er niet al een functie voor is?"
   ]
  },
  {
   "cell_type": "code",
   "execution_count": null,
   "metadata": {},
   "outputs": [],
   "source": [
    "import math"
   ]
  },
  {
   "cell_type": "code",
   "execution_count": null,
   "metadata": {},
   "outputs": [],
   "source": [
    "math.pow(2,3)"
   ]
  },
  {
   "cell_type": "code",
   "execution_count": null,
   "metadata": {},
   "outputs": [],
   "source": [
    "help(math.pow)"
   ]
  },
  {
   "cell_type": "markdown",
   "metadata": {},
   "source": [
    "### Daarom eerder voor beschikbare functies kiezen!"
   ]
  },
  {
   "cell_type": "code",
   "execution_count": null,
   "metadata": {},
   "outputs": [],
   "source": [
    "import timeit\n",
    "def test_math_pow():\n",
    "    math.pow(2,3)\n",
    "    \n",
    "def test_my_pow():\n",
    "    my_power_func(2,3)\n",
    "    \n",
    "print(timeit.timeit(\"test_math_pow()\", number=10000000, globals=globals()))\n",
    "print(timeit.timeit(\"test_my_pow()\", number=10000000, globals=globals()))"
   ]
  },
  {
   "cell_type": "markdown",
   "metadata": {},
   "source": [
    "### Functies met meerdere resultaten"
   ]
  },
  {
   "cell_type": "code",
   "execution_count": null,
   "metadata": {},
   "outputs": [],
   "source": [
    "def f(i):\n",
    "    return (i**2, i**3, i**4)\n",
    "\n",
    "answer = f(2)\n",
    "print(answer)"
   ]
  },
  {
   "cell_type": "code",
   "execution_count": null,
   "metadata": {},
   "outputs": [],
   "source": [
    "print(answer[0])"
   ]
  },
  {
   "cell_type": "code",
   "execution_count": null,
   "metadata": {},
   "outputs": [],
   "source": [
    "i2, i3, i4 = f(2)\n",
    "print(i3)"
   ]
  },
  {
   "cell_type": "code",
   "execution_count": null,
   "metadata": {},
   "outputs": [],
   "source": [
    "_, _, i = f(2)\n",
    "print(i)"
   ]
  },
  {
   "cell_type": "markdown",
   "metadata": {},
   "source": [
    "### Praktijk voorbeeld"
   ]
  },
  {
   "cell_type": "code",
   "execution_count": null,
   "metadata": {},
   "outputs": [],
   "source": [
    "import pandas as pd\n",
    "\n",
    "def read_and_show_cpt_using_pandas(filename, width=2, height=4):\n",
    "    df = pd.read_csv(filename, delimiter=';')\n",
    "    df.plot(x='qc', y='z', figsize=(width,height))     \n",
    "    \n",
    "read_and_show_cpt_using_pandas(\"data/sample.gef\")"
   ]
  },
  {
   "cell_type": "markdown",
   "metadata": {},
   "source": [
    "### Live code van de voorgaande pandas demo"
   ]
  },
  {
   "cell_type": "code",
   "execution_count": null,
   "metadata": {},
   "outputs": [],
   "source": []
  }
 ],
 "metadata": {
  "kernelspec": {
   "display_name": "Python 3",
   "language": "python",
   "name": "python3"
  },
  "language_info": {
   "codemirror_mode": {
    "name": "ipython",
    "version": 3
   },
   "file_extension": ".py",
   "mimetype": "text/x-python",
   "name": "python",
   "nbconvert_exporter": "python",
   "pygments_lexer": "ipython3",
   "version": "3.7.5"
  }
 },
 "nbformat": 4,
 "nbformat_minor": 2
}
